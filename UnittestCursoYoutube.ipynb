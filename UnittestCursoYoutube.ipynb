{
 "cells": [
  {
   "cell_type": "markdown",
   "metadata": {},
   "source": [
    "# xpath Requisitos"
   ]
  },
  {
   "cell_type": "code",
   "execution_count": null,
   "metadata": {},
   "outputs": [],
   "source": [
    "python3 xpath.py"
   ]
  },
  {
   "cell_type": "code",
   "execution_count": null,
   "metadata": {},
   "outputs": [],
   "source": [
    "!pip install lxml"
   ]
  },
  {
   "cell_type": "code",
   "execution_count": null,
   "metadata": {},
   "outputs": [],
   "source": [
    "import time\n",
    "from selenium import webdriver\n",
    "from selenium.webdriver.chrome.service import Service\n",
    "from selenium.webdriver.common.by import By"
   ]
  },
  {
   "cell_type": "markdown",
   "metadata": {},
   "source": [
    "# Primera prueba abrir una pagina web"
   ]
  },
  {
   "cell_type": "code",
   "execution_count": null,
   "metadata": {},
   "outputs": [],
   "source": [
    "# path  = \"C:\\DriverChrome\\chromedriver.exe\"\n",
    "s  = Service(\"C:\\DriverChrome\\chromedriver108.exe\")\n",
    "driver = webdriver.Chrome(service=s)\n",
    "driver.get(\"https://adan-farm.web.app/\")\n"
   ]
  },
  {
   "cell_type": "code",
   "execution_count": null,
   "metadata": {},
   "outputs": [],
   "source": [
    "driver.close()"
   ]
  },
  {
   "cell_type": "markdown",
   "metadata": {},
   "source": [
    "# Segunda prueba abrir una pagina stagin-adan y logear"
   ]
  },
  {
   "cell_type": "code",
   "execution_count": null,
   "metadata": {},
   "outputs": [],
   "source": [
    "s  = Service(\"C:\\DriverChrome\\chromedriver108.exe\")\n",
    "driver = webdriver.Chrome(service=s)\n",
    "driver.get(\"https://adan-farm.web.app/sign-in\")\n",
    "time.sleep(2)\n",
    "\n",
    "\n",
    "user = driver.find_element(By.ID,\"login_email\")\n",
    "user.send_keys(\"edrian@edrian.com\")\n",
    "\n",
    "\n",
    "login = driver.find_element(By.ID, \"login_password\")\n",
    "login.send_keys(\"edrian2\")\n",
    "\n",
    "btnIniciarSeccion = driver.find_element(By.ID, \"test-login\")\n",
    "btnIniciarSeccion.submit()\n",
    "\n",
    "time.sleep(2)\n",
    "\n",
    "\n"
   ]
  },
  {
   "cell_type": "code",
   "execution_count": null,
   "metadata": {},
   "outputs": [],
   "source": [
    "driver.close()"
   ]
  },
  {
   "cell_type": "markdown",
   "metadata": {},
   "source": [
    "# Usando selenium y Unittest"
   ]
  },
  {
   "cell_type": "code",
   "execution_count": null,
   "metadata": {},
   "outputs": [],
   "source": [
    "import unittest\n",
    "from selenium import webdriver\n",
    "from selenium.webdriver.common.keys import Keys\n",
    "from selenium.webdriver.chrome.service import Service\n",
    "from selenium.webdriver.common.by import By\n",
    "import time"
   ]
  },
  {
   "cell_type": "code",
   "execution_count": null,
   "metadata": {},
   "outputs": [],
   "source": [
    "class usandoUnittest(unittest.TestCase):\n",
    "    \n",
    "    def setUp(self):\n",
    "        s  = Service(\"C:\\DriverChrome\\chromedriver108.exe\")\n",
    "        self.driver = webdriver.Chrome(service=s)\n",
    "        \n",
    "    \n",
    "    def test_buscar(self):\n",
    "        driver = self.driver\n",
    "        driver.get(\"http://www.google.com\")\n",
    "        self.assertIn(\"Google\", driver.title)\n",
    "        elemento = driver.find_element(By.NAME,\"q\")\n",
    "        elemento.send_keys(\"selenium\")\n",
    "        elemento.send_keys(Keys.RETURN)\n",
    "        time.sleep(5)\n",
    "        assert \"No se encontro el elemento:\" not in driver.page_source\n",
    "    \n",
    "    def tearDown(self):\n",
    "        self.driver.close()\n",
    "\n",
    "if __name__ == '__main__':\n",
    "    unittest.main(argv=['first-arg-is-ignored'], exit=False)"
   ]
  },
  {
   "cell_type": "markdown",
   "metadata": {},
   "source": [
    "# Usando Xpath"
   ]
  },
  {
   "cell_type": "code",
   "execution_count": null,
   "metadata": {},
   "outputs": [],
   "source": [
    "class usandoUnittest(unittest.TestCase):\n",
    "    def setUp(self):\n",
    "        s  = Service(\"C:\\DriverChrome\\chromedriver108.exe\")\n",
    "        self.driver = webdriver.Chrome(service=s)\n",
    "    \n",
    "    def test_buscarPorXpath(self):\n",
    "        driver = self.driver\n",
    "        driver.get(\"http://www.google.com\")\n",
    "        time.sleep(3)\n",
    "        buscarXpath = driver.find_element(By.XPATH, \"/html/body/div[1]/div[3]/form/div[1]/div[1]/div[1]/div/div[2]/input\")\n",
    "        time.sleep(3)\n",
    "        buscarXpath.send_keys(\"selenium\", Keys.ARROW_DOWN)\n",
    "        time.sleep(3)\n",
    "        \n",
    "    def tearDown(self):\n",
    "        self.driver.close()\n",
    "    \n",
    "    \n",
    "if __name__ == '__main__':\n",
    "    unittest.main(argv=['first-arg-is-ignored'], exit=False)"
   ]
  },
  {
   "cell_type": "markdown",
   "metadata": {},
   "source": [
    "# Navegar o cambiar entre ventanas"
   ]
  },
  {
   "cell_type": "code",
   "execution_count": 1,
   "metadata": {},
   "outputs": [],
   "source": [
    "import unittest\n",
    "from selenium import webdriver\n",
    "from selenium.webdriver.common.keys import Keys\n",
    "from selenium.webdriver.chrome.service import Service\n",
    "from selenium.webdriver.common.by import By\n",
    "import time"
   ]
  },
  {
   "cell_type": "code",
   "execution_count": null,
   "metadata": {},
   "outputs": [],
   "source": [
    "class usandoUnittest(unittest.TestCase):\n",
    "    def setUp(self):\n",
    "        s  = Service(\"C:\\DriverChrome\\chromedriver108.exe\")\n",
    "        self.driver = webdriver.Chrome(service=s)\n",
    "    \n",
    "    def test_cambiarVentana(self):\n",
    "        driver = self.driver\n",
    "        driver.get(\"http://www.google.com\")\n",
    "        time.sleep(3)\n",
    "        driver.execute_script(\"window.open('');\")\n",
    "        time.sleep(3)\n",
    "        driver.switch_to.window(driver.window_handles[1])\n",
    "        driver.get(\"http://stackoverflow.com\")\n",
    "        time.sleep(3)\n",
    "        driver.switch_to.window(driver.window_handles[0])\n",
    "        time.sleep(3)\n",
    "        \n",
    "    def tearDown(self):\n",
    "        self.driver.close()\n",
    "    \n",
    "    \n",
    "if __name__ == '__main__':\n",
    "    unittest.main(argv=['first-arg-is-ignored'], exit=False)"
   ]
  },
  {
   "cell_type": "markdown",
   "metadata": {},
   "source": [
    "# sigue el ejemplo"
   ]
  },
  {
   "cell_type": "code",
   "execution_count": 2,
   "metadata": {},
   "outputs": [
    {
     "name": "stderr",
     "output_type": "stream",
     "text": [
      ".C:\\Users\\grego\\anaconda3\\lib\\unittest\\suite.py:84: ResourceWarning: unclosed <socket.socket fd=1472, family=AddressFamily.AF_INET6, type=SocketKind.SOCK_STREAM, proto=0, laddr=('::1', 62622, 0, 0), raddr=('::1', 62620, 0, 0)>\n",
      "  return self.run(*args, **kwds)\n",
      "ResourceWarning: Enable tracemalloc to get the object allocation traceback\n",
      "\n",
      "----------------------------------------------------------------------\n",
      "Ran 1 test in 49.224s\n",
      "\n",
      "OK\n"
     ]
    }
   ],
   "source": [
    "class usando_unittest2(unittest.TestCase):\n",
    "    def setUp(self):\n",
    "        s  = Service(\"C:\\DriverChrome\\chromedriver108.exe\")\n",
    "        self.driver = webdriver.Chrome(service=s)\n",
    "        \n",
    "    def test_paginaSiguienteoAnterior(self):\n",
    "        driver = self.driver\n",
    "        driver.get(\"http://www.gmail.com\")\n",
    "        time.sleep(3)\n",
    "        driver.get(\"http://www.google.com\")\n",
    "        time.sleep(3)\n",
    "        driver.get(\"http://www.youtube.com\")\n",
    "        time.sleep(3)\n",
    "        driver.back()\n",
    "        time.sleep(3)\n",
    "        driver.back()\n",
    "        time.sleep(3)\n",
    "        driver.forward()\n",
    "        time.sleep(3)\n",
    "        \n",
    "    def tearDown(self):\n",
    "        self.driver.close()\n",
    "        \n",
    "if __name__ == '__main__':\n",
    "    unittest.main(argv=['first-arg-is-ignored'], exit=False)   "
   ]
  },
  {
   "cell_type": "code",
   "execution_count": null,
   "metadata": {},
   "outputs": [],
   "source": []
  }
 ],
 "metadata": {
  "kernelspec": {
   "display_name": "Python 3",
   "language": "python",
   "name": "python3"
  },
  "language_info": {
   "codemirror_mode": {
    "name": "ipython",
    "version": 3
   },
   "file_extension": ".py",
   "mimetype": "text/x-python",
   "name": "python",
   "nbconvert_exporter": "python",
   "pygments_lexer": "ipython3",
   "version": "3.8.5"
  }
 },
 "nbformat": 4,
 "nbformat_minor": 4
}
